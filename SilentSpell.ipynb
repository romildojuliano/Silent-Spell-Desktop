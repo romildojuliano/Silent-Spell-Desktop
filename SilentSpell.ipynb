{
  "nbformat": 4,
  "nbformat_minor": 0,
  "metadata": {
    "colab": {
      "name": "SilentSpell.ipynb",
      "provenance": [],
      "collapsed_sections": [],
      "authorship_tag": "ABX9TyNnda8RW8GQvkZLR4fIrBwV",
      "include_colab_link": true
    },
    "kernelspec": {
      "name": "python3",
      "display_name": "Python 3"
    },
    "language_info": {
      "name": "python"
    }
  },
  "cells": [
    {
      "cell_type": "markdown",
      "metadata": {
        "id": "view-in-github",
        "colab_type": "text"
      },
      "source": [
        "<a href=\"https://colab.research.google.com/github/romildojuliano/Silent-Spell-Desktop/blob/HandsClassifier/SilentSpell.ipynb\" target=\"_parent\"><img src=\"https://colab.research.google.com/assets/colab-badge.svg\" alt=\"Open In Colab\"/></a>"
      ]
    },
    {
      "cell_type": "code",
      "execution_count": null,
      "metadata": {
        "id": "Z-udBiqBgl1-"
      },
      "outputs": [],
      "source": [
        "import pandas as pd"
      ]
    },
    {
      "cell_type": "code",
      "source": [
        "df = pd.read_csv('data.csv')\n",
        "df = df.sample(frac=1)\n",
        "df.head()"
      ],
      "metadata": {
        "colab": {
          "base_uri": "https://localhost:8080/",
          "height": 287
        },
        "id": "ggsUz9Xcg8sp",
        "outputId": "9e123e5b-d06a-44e4-e422-97277a444a19"
      },
      "execution_count": null,
      "outputs": [
        {
          "output_type": "execute_result",
          "data": {
            "text/html": [
              "\n",
              "  <div id=\"df-caacdadb-e7db-4a07-ba70-42eae9e985b9\">\n",
              "    <div class=\"colab-df-container\">\n",
              "      <div>\n",
              "<style scoped>\n",
              "    .dataframe tbody tr th:only-of-type {\n",
              "        vertical-align: middle;\n",
              "    }\n",
              "\n",
              "    .dataframe tbody tr th {\n",
              "        vertical-align: top;\n",
              "    }\n",
              "\n",
              "    .dataframe thead th {\n",
              "        text-align: right;\n",
              "    }\n",
              "</style>\n",
              "<table border=\"1\" class=\"dataframe\">\n",
              "  <thead>\n",
              "    <tr style=\"text-align: right;\">\n",
              "      <th></th>\n",
              "      <th>0-1-2</th>\n",
              "      <th>1-2-3</th>\n",
              "      <th>2-3-4</th>\n",
              "      <th>5-6-7</th>\n",
              "      <th>6-7-8</th>\n",
              "      <th>9-10-11</th>\n",
              "      <th>10-11-12</th>\n",
              "      <th>13-14-15</th>\n",
              "      <th>14-15-16</th>\n",
              "      <th>17-18-19</th>\n",
              "      <th>18-19-20</th>\n",
              "      <th>8-0-20</th>\n",
              "      <th>12-0-20</th>\n",
              "      <th>4-0-16</th>\n",
              "      <th>16-0-20</th>\n",
              "      <th>label</th>\n",
              "    </tr>\n",
              "  </thead>\n",
              "  <tbody>\n",
              "    <tr>\n",
              "      <th>2697</th>\n",
              "      <td>2.645127</td>\n",
              "      <td>2.012749</td>\n",
              "      <td>2.003420</td>\n",
              "      <td>1.382568</td>\n",
              "      <td>2.742032</td>\n",
              "      <td>1.277105</td>\n",
              "      <td>2.717699</td>\n",
              "      <td>0.946895</td>\n",
              "      <td>2.757852</td>\n",
              "      <td>0.877779</td>\n",
              "      <td>2.602651</td>\n",
              "      <td>0.705201</td>\n",
              "      <td>0.469234</td>\n",
              "      <td>0.438160</td>\n",
              "      <td>0.231247</td>\n",
              "      <td>E</td>\n",
              "    </tr>\n",
              "    <tr>\n",
              "      <th>1245</th>\n",
              "      <td>2.418561</td>\n",
              "      <td>2.720068</td>\n",
              "      <td>3.008229</td>\n",
              "      <td>1.697539</td>\n",
              "      <td>2.588193</td>\n",
              "      <td>1.374465</td>\n",
              "      <td>2.581013</td>\n",
              "      <td>1.053421</td>\n",
              "      <td>2.700944</td>\n",
              "      <td>1.166170</td>\n",
              "      <td>2.608954</td>\n",
              "      <td>0.592942</td>\n",
              "      <td>0.447723</td>\n",
              "      <td>0.782932</td>\n",
              "      <td>0.232851</td>\n",
              "      <td>A</td>\n",
              "    </tr>\n",
              "    <tr>\n",
              "      <th>2865</th>\n",
              "      <td>2.563431</td>\n",
              "      <td>1.963736</td>\n",
              "      <td>2.099116</td>\n",
              "      <td>1.155496</td>\n",
              "      <td>2.908457</td>\n",
              "      <td>1.097142</td>\n",
              "      <td>2.830458</td>\n",
              "      <td>0.691255</td>\n",
              "      <td>2.925941</td>\n",
              "      <td>0.675542</td>\n",
              "      <td>2.768274</td>\n",
              "      <td>0.748472</td>\n",
              "      <td>0.513122</td>\n",
              "      <td>0.403219</td>\n",
              "      <td>0.249877</td>\n",
              "      <td>E</td>\n",
              "    </tr>\n",
              "    <tr>\n",
              "      <th>1834</th>\n",
              "      <td>2.355306</td>\n",
              "      <td>2.655700</td>\n",
              "      <td>3.003464</td>\n",
              "      <td>2.603923</td>\n",
              "      <td>2.727462</td>\n",
              "      <td>2.529655</td>\n",
              "      <td>2.736999</td>\n",
              "      <td>2.498270</td>\n",
              "      <td>2.780759</td>\n",
              "      <td>2.772132</td>\n",
              "      <td>2.841409</td>\n",
              "      <td>0.488041</td>\n",
              "      <td>0.338829</td>\n",
              "      <td>0.402728</td>\n",
              "      <td>0.191589</td>\n",
              "      <td>C</td>\n",
              "    </tr>\n",
              "    <tr>\n",
              "      <th>3486</th>\n",
              "      <td>2.587854</td>\n",
              "      <td>2.877952</td>\n",
              "      <td>2.671544</td>\n",
              "      <td>1.907604</td>\n",
              "      <td>2.381778</td>\n",
              "      <td>2.915944</td>\n",
              "      <td>2.735547</td>\n",
              "      <td>1.901617</td>\n",
              "      <td>2.487481</td>\n",
              "      <td>2.505343</td>\n",
              "      <td>2.662712</td>\n",
              "      <td>0.677521</td>\n",
              "      <td>0.378219</td>\n",
              "      <td>0.598643</td>\n",
              "      <td>0.194917</td>\n",
              "      <td>D</td>\n",
              "    </tr>\n",
              "  </tbody>\n",
              "</table>\n",
              "</div>\n",
              "      <button class=\"colab-df-convert\" onclick=\"convertToInteractive('df-caacdadb-e7db-4a07-ba70-42eae9e985b9')\"\n",
              "              title=\"Convert this dataframe to an interactive table.\"\n",
              "              style=\"display:none;\">\n",
              "        \n",
              "  <svg xmlns=\"http://www.w3.org/2000/svg\" height=\"24px\"viewBox=\"0 0 24 24\"\n",
              "       width=\"24px\">\n",
              "    <path d=\"M0 0h24v24H0V0z\" fill=\"none\"/>\n",
              "    <path d=\"M18.56 5.44l.94 2.06.94-2.06 2.06-.94-2.06-.94-.94-2.06-.94 2.06-2.06.94zm-11 1L8.5 8.5l.94-2.06 2.06-.94-2.06-.94L8.5 2.5l-.94 2.06-2.06.94zm10 10l.94 2.06.94-2.06 2.06-.94-2.06-.94-.94-2.06-.94 2.06-2.06.94z\"/><path d=\"M17.41 7.96l-1.37-1.37c-.4-.4-.92-.59-1.43-.59-.52 0-1.04.2-1.43.59L10.3 9.45l-7.72 7.72c-.78.78-.78 2.05 0 2.83L4 21.41c.39.39.9.59 1.41.59.51 0 1.02-.2 1.41-.59l7.78-7.78 2.81-2.81c.8-.78.8-2.07 0-2.86zM5.41 20L4 18.59l7.72-7.72 1.47 1.35L5.41 20z\"/>\n",
              "  </svg>\n",
              "      </button>\n",
              "      \n",
              "  <style>\n",
              "    .colab-df-container {\n",
              "      display:flex;\n",
              "      flex-wrap:wrap;\n",
              "      gap: 12px;\n",
              "    }\n",
              "\n",
              "    .colab-df-convert {\n",
              "      background-color: #E8F0FE;\n",
              "      border: none;\n",
              "      border-radius: 50%;\n",
              "      cursor: pointer;\n",
              "      display: none;\n",
              "      fill: #1967D2;\n",
              "      height: 32px;\n",
              "      padding: 0 0 0 0;\n",
              "      width: 32px;\n",
              "    }\n",
              "\n",
              "    .colab-df-convert:hover {\n",
              "      background-color: #E2EBFA;\n",
              "      box-shadow: 0px 1px 2px rgba(60, 64, 67, 0.3), 0px 1px 3px 1px rgba(60, 64, 67, 0.15);\n",
              "      fill: #174EA6;\n",
              "    }\n",
              "\n",
              "    [theme=dark] .colab-df-convert {\n",
              "      background-color: #3B4455;\n",
              "      fill: #D2E3FC;\n",
              "    }\n",
              "\n",
              "    [theme=dark] .colab-df-convert:hover {\n",
              "      background-color: #434B5C;\n",
              "      box-shadow: 0px 1px 3px 1px rgba(0, 0, 0, 0.15);\n",
              "      filter: drop-shadow(0px 1px 2px rgba(0, 0, 0, 0.3));\n",
              "      fill: #FFFFFF;\n",
              "    }\n",
              "  </style>\n",
              "\n",
              "      <script>\n",
              "        const buttonEl =\n",
              "          document.querySelector('#df-caacdadb-e7db-4a07-ba70-42eae9e985b9 button.colab-df-convert');\n",
              "        buttonEl.style.display =\n",
              "          google.colab.kernel.accessAllowed ? 'block' : 'none';\n",
              "\n",
              "        async function convertToInteractive(key) {\n",
              "          const element = document.querySelector('#df-caacdadb-e7db-4a07-ba70-42eae9e985b9');\n",
              "          const dataTable =\n",
              "            await google.colab.kernel.invokeFunction('convertToInteractive',\n",
              "                                                     [key], {});\n",
              "          if (!dataTable) return;\n",
              "\n",
              "          const docLinkHtml = 'Like what you see? Visit the ' +\n",
              "            '<a target=\"_blank\" href=https://colab.research.google.com/notebooks/data_table.ipynb>data table notebook</a>'\n",
              "            + ' to learn more about interactive tables.';\n",
              "          element.innerHTML = '';\n",
              "          dataTable['output_type'] = 'display_data';\n",
              "          await google.colab.output.renderOutput(dataTable, element);\n",
              "          const docLink = document.createElement('div');\n",
              "          docLink.innerHTML = docLinkHtml;\n",
              "          element.appendChild(docLink);\n",
              "        }\n",
              "      </script>\n",
              "    </div>\n",
              "  </div>\n",
              "  "
            ],
            "text/plain": [
              "         0-1-2     1-2-3     2-3-4  ...    4-0-16   16-0-20  label\n",
              "2697  2.645127  2.012749  2.003420  ...  0.438160  0.231247      E\n",
              "1245  2.418561  2.720068  3.008229  ...  0.782932  0.232851      A\n",
              "2865  2.563431  1.963736  2.099116  ...  0.403219  0.249877      E\n",
              "1834  2.355306  2.655700  3.003464  ...  0.402728  0.191589      C\n",
              "3486  2.587854  2.877952  2.671544  ...  0.598643  0.194917      D\n",
              "\n",
              "[5 rows x 16 columns]"
            ]
          },
          "metadata": {},
          "execution_count": 2
        }
      ]
    },
    {
      "cell_type": "code",
      "source": [
        "df.describe()"
      ],
      "metadata": {
        "colab": {
          "base_uri": "https://localhost:8080/",
          "height": 364
        },
        "id": "6bXss3anhCUZ",
        "outputId": "d610e8e6-4863-4b51-f39d-5bc209a4b6d9"
      },
      "execution_count": null,
      "outputs": [
        {
          "output_type": "execute_result",
          "data": {
            "text/html": [
              "\n",
              "  <div id=\"df-84ea2baa-94dc-428b-b438-0798ed826ef5\">\n",
              "    <div class=\"colab-df-container\">\n",
              "      <div>\n",
              "<style scoped>\n",
              "    .dataframe tbody tr th:only-of-type {\n",
              "        vertical-align: middle;\n",
              "    }\n",
              "\n",
              "    .dataframe tbody tr th {\n",
              "        vertical-align: top;\n",
              "    }\n",
              "\n",
              "    .dataframe thead th {\n",
              "        text-align: right;\n",
              "    }\n",
              "</style>\n",
              "<table border=\"1\" class=\"dataframe\">\n",
              "  <thead>\n",
              "    <tr style=\"text-align: right;\">\n",
              "      <th></th>\n",
              "      <th>0-1-2</th>\n",
              "      <th>1-2-3</th>\n",
              "      <th>2-3-4</th>\n",
              "      <th>5-6-7</th>\n",
              "      <th>6-7-8</th>\n",
              "      <th>9-10-11</th>\n",
              "      <th>10-11-12</th>\n",
              "      <th>13-14-15</th>\n",
              "      <th>14-15-16</th>\n",
              "      <th>17-18-19</th>\n",
              "      <th>18-19-20</th>\n",
              "      <th>8-0-20</th>\n",
              "      <th>12-0-20</th>\n",
              "      <th>4-0-16</th>\n",
              "      <th>16-0-20</th>\n",
              "    </tr>\n",
              "  </thead>\n",
              "  <tbody>\n",
              "    <tr>\n",
              "      <th>count</th>\n",
              "      <td>4037.000000</td>\n",
              "      <td>4037.000000</td>\n",
              "      <td>4037.000000</td>\n",
              "      <td>4037.000000</td>\n",
              "      <td>4037.000000</td>\n",
              "      <td>4037.000000</td>\n",
              "      <td>4037.000000</td>\n",
              "      <td>4037.000000</td>\n",
              "      <td>4037.000000</td>\n",
              "      <td>4037.000000</td>\n",
              "      <td>4037.000000</td>\n",
              "      <td>4037.000000</td>\n",
              "      <td>4037.000000</td>\n",
              "      <td>4037.000000</td>\n",
              "      <td>4037.000000</td>\n",
              "    </tr>\n",
              "    <tr>\n",
              "      <th>mean</th>\n",
              "      <td>2.589016</td>\n",
              "      <td>2.469584</td>\n",
              "      <td>2.635556</td>\n",
              "      <td>2.253225</td>\n",
              "      <td>2.817780</td>\n",
              "      <td>2.068810</td>\n",
              "      <td>2.749957</td>\n",
              "      <td>1.800182</td>\n",
              "      <td>2.743893</td>\n",
              "      <td>2.068542</td>\n",
              "      <td>2.758112</td>\n",
              "      <td>0.534161</td>\n",
              "      <td>0.381993</td>\n",
              "      <td>0.430899</td>\n",
              "      <td>0.211301</td>\n",
              "    </tr>\n",
              "    <tr>\n",
              "      <th>std</th>\n",
              "      <td>0.176478</td>\n",
              "      <td>0.356725</td>\n",
              "      <td>0.319964</td>\n",
              "      <td>0.819435</td>\n",
              "      <td>0.233030</td>\n",
              "      <td>0.804828</td>\n",
              "      <td>0.275102</td>\n",
              "      <td>0.815521</td>\n",
              "      <td>0.212371</td>\n",
              "      <td>0.743158</td>\n",
              "      <td>0.243960</td>\n",
              "      <td>0.191727</td>\n",
              "      <td>0.164210</td>\n",
              "      <td>0.237209</td>\n",
              "      <td>0.120360</td>\n",
              "    </tr>\n",
              "    <tr>\n",
              "      <th>min</th>\n",
              "      <td>2.001391</td>\n",
              "      <td>1.716979</td>\n",
              "      <td>1.753597</td>\n",
              "      <td>0.104630</td>\n",
              "      <td>0.339322</td>\n",
              "      <td>0.142311</td>\n",
              "      <td>0.241512</td>\n",
              "      <td>0.108988</td>\n",
              "      <td>0.652733</td>\n",
              "      <td>0.195699</td>\n",
              "      <td>1.375064</td>\n",
              "      <td>0.022635</td>\n",
              "      <td>0.010258</td>\n",
              "      <td>0.007409</td>\n",
              "      <td>0.010589</td>\n",
              "    </tr>\n",
              "    <tr>\n",
              "      <th>25%</th>\n",
              "      <td>2.474916</td>\n",
              "      <td>2.145284</td>\n",
              "      <td>2.363732</td>\n",
              "      <td>1.526987</td>\n",
              "      <td>2.654851</td>\n",
              "      <td>1.319671</td>\n",
              "      <td>2.598166</td>\n",
              "      <td>1.123262</td>\n",
              "      <td>2.616888</td>\n",
              "      <td>1.382997</td>\n",
              "      <td>2.608954</td>\n",
              "      <td>0.352700</td>\n",
              "      <td>0.240031</td>\n",
              "      <td>0.238058</td>\n",
              "      <td>0.139350</td>\n",
              "    </tr>\n",
              "    <tr>\n",
              "      <th>50%</th>\n",
              "      <td>2.593947</td>\n",
              "      <td>2.571977</td>\n",
              "      <td>2.693682</td>\n",
              "      <td>2.609872</td>\n",
              "      <td>2.844437</td>\n",
              "      <td>2.209607</td>\n",
              "      <td>2.762298</td>\n",
              "      <td>1.689520</td>\n",
              "      <td>2.766785</td>\n",
              "      <td>2.131355</td>\n",
              "      <td>2.764218</td>\n",
              "      <td>0.553787</td>\n",
              "      <td>0.378958</td>\n",
              "      <td>0.393905</td>\n",
              "      <td>0.187413</td>\n",
              "    </tr>\n",
              "    <tr>\n",
              "      <th>75%</th>\n",
              "      <td>2.698524</td>\n",
              "      <td>2.751225</td>\n",
              "      <td>2.915396</td>\n",
              "      <td>2.965841</td>\n",
              "      <td>3.024205</td>\n",
              "      <td>2.851617</td>\n",
              "      <td>2.977408</td>\n",
              "      <td>2.537516</td>\n",
              "      <td>2.901238</td>\n",
              "      <td>2.816283</td>\n",
              "      <td>2.946232</td>\n",
              "      <td>0.682219</td>\n",
              "      <td>0.473314</td>\n",
              "      <td>0.591100</td>\n",
              "      <td>0.233711</td>\n",
              "    </tr>\n",
              "    <tr>\n",
              "      <th>max</th>\n",
              "      <td>3.123327</td>\n",
              "      <td>3.133555</td>\n",
              "      <td>3.135686</td>\n",
              "      <td>3.133189</td>\n",
              "      <td>3.140310</td>\n",
              "      <td>3.137946</td>\n",
              "      <td>3.133852</td>\n",
              "      <td>3.138871</td>\n",
              "      <td>3.129297</td>\n",
              "      <td>3.131517</td>\n",
              "      <td>3.138709</td>\n",
              "      <td>1.135739</td>\n",
              "      <td>0.880852</td>\n",
              "      <td>1.119861</td>\n",
              "      <td>0.827209</td>\n",
              "    </tr>\n",
              "  </tbody>\n",
              "</table>\n",
              "</div>\n",
              "      <button class=\"colab-df-convert\" onclick=\"convertToInteractive('df-84ea2baa-94dc-428b-b438-0798ed826ef5')\"\n",
              "              title=\"Convert this dataframe to an interactive table.\"\n",
              "              style=\"display:none;\">\n",
              "        \n",
              "  <svg xmlns=\"http://www.w3.org/2000/svg\" height=\"24px\"viewBox=\"0 0 24 24\"\n",
              "       width=\"24px\">\n",
              "    <path d=\"M0 0h24v24H0V0z\" fill=\"none\"/>\n",
              "    <path d=\"M18.56 5.44l.94 2.06.94-2.06 2.06-.94-2.06-.94-.94-2.06-.94 2.06-2.06.94zm-11 1L8.5 8.5l.94-2.06 2.06-.94-2.06-.94L8.5 2.5l-.94 2.06-2.06.94zm10 10l.94 2.06.94-2.06 2.06-.94-2.06-.94-.94-2.06-.94 2.06-2.06.94z\"/><path d=\"M17.41 7.96l-1.37-1.37c-.4-.4-.92-.59-1.43-.59-.52 0-1.04.2-1.43.59L10.3 9.45l-7.72 7.72c-.78.78-.78 2.05 0 2.83L4 21.41c.39.39.9.59 1.41.59.51 0 1.02-.2 1.41-.59l7.78-7.78 2.81-2.81c.8-.78.8-2.07 0-2.86zM5.41 20L4 18.59l7.72-7.72 1.47 1.35L5.41 20z\"/>\n",
              "  </svg>\n",
              "      </button>\n",
              "      \n",
              "  <style>\n",
              "    .colab-df-container {\n",
              "      display:flex;\n",
              "      flex-wrap:wrap;\n",
              "      gap: 12px;\n",
              "    }\n",
              "\n",
              "    .colab-df-convert {\n",
              "      background-color: #E8F0FE;\n",
              "      border: none;\n",
              "      border-radius: 50%;\n",
              "      cursor: pointer;\n",
              "      display: none;\n",
              "      fill: #1967D2;\n",
              "      height: 32px;\n",
              "      padding: 0 0 0 0;\n",
              "      width: 32px;\n",
              "    }\n",
              "\n",
              "    .colab-df-convert:hover {\n",
              "      background-color: #E2EBFA;\n",
              "      box-shadow: 0px 1px 2px rgba(60, 64, 67, 0.3), 0px 1px 3px 1px rgba(60, 64, 67, 0.15);\n",
              "      fill: #174EA6;\n",
              "    }\n",
              "\n",
              "    [theme=dark] .colab-df-convert {\n",
              "      background-color: #3B4455;\n",
              "      fill: #D2E3FC;\n",
              "    }\n",
              "\n",
              "    [theme=dark] .colab-df-convert:hover {\n",
              "      background-color: #434B5C;\n",
              "      box-shadow: 0px 1px 3px 1px rgba(0, 0, 0, 0.15);\n",
              "      filter: drop-shadow(0px 1px 2px rgba(0, 0, 0, 0.3));\n",
              "      fill: #FFFFFF;\n",
              "    }\n",
              "  </style>\n",
              "\n",
              "      <script>\n",
              "        const buttonEl =\n",
              "          document.querySelector('#df-84ea2baa-94dc-428b-b438-0798ed826ef5 button.colab-df-convert');\n",
              "        buttonEl.style.display =\n",
              "          google.colab.kernel.accessAllowed ? 'block' : 'none';\n",
              "\n",
              "        async function convertToInteractive(key) {\n",
              "          const element = document.querySelector('#df-84ea2baa-94dc-428b-b438-0798ed826ef5');\n",
              "          const dataTable =\n",
              "            await google.colab.kernel.invokeFunction('convertToInteractive',\n",
              "                                                     [key], {});\n",
              "          if (!dataTable) return;\n",
              "\n",
              "          const docLinkHtml = 'Like what you see? Visit the ' +\n",
              "            '<a target=\"_blank\" href=https://colab.research.google.com/notebooks/data_table.ipynb>data table notebook</a>'\n",
              "            + ' to learn more about interactive tables.';\n",
              "          element.innerHTML = '';\n",
              "          dataTable['output_type'] = 'display_data';\n",
              "          await google.colab.output.renderOutput(dataTable, element);\n",
              "          const docLink = document.createElement('div');\n",
              "          docLink.innerHTML = docLinkHtml;\n",
              "          element.appendChild(docLink);\n",
              "        }\n",
              "      </script>\n",
              "    </div>\n",
              "  </div>\n",
              "  "
            ],
            "text/plain": [
              "             0-1-2        1-2-3  ...       4-0-16      16-0-20\n",
              "count  4037.000000  4037.000000  ...  4037.000000  4037.000000\n",
              "mean      2.589016     2.469584  ...     0.430899     0.211301\n",
              "std       0.176478     0.356725  ...     0.237209     0.120360\n",
              "min       2.001391     1.716979  ...     0.007409     0.010589\n",
              "25%       2.474916     2.145284  ...     0.238058     0.139350\n",
              "50%       2.593947     2.571977  ...     0.393905     0.187413\n",
              "75%       2.698524     2.751225  ...     0.591100     0.233711\n",
              "max       3.123327     3.133555  ...     1.119861     0.827209\n",
              "\n",
              "[8 rows x 15 columns]"
            ]
          },
          "metadata": {},
          "execution_count": 3
        }
      ]
    },
    {
      "cell_type": "code",
      "source": [
        "df['label'].hist()"
      ],
      "metadata": {
        "colab": {
          "base_uri": "https://localhost:8080/",
          "height": 283
        },
        "id": "SEUVdvGWhnbh",
        "outputId": "fa7bd992-c73e-4740-d1ab-6817207736e2"
      },
      "execution_count": null,
      "outputs": [
        {
          "output_type": "execute_result",
          "data": {
            "text/plain": [
              "<matplotlib.axes._subplots.AxesSubplot at 0x7f31b3e90590>"
            ]
          },
          "metadata": {},
          "execution_count": 4
        },
        {
          "output_type": "display_data",
          "data": {
            "image/png": "[encoded data removed]",
            "text/plain": [
              "<Figure size 432x288 with 1 Axes>"
            ]
          },
          "metadata": {
            "needs_background": "light"
          }
        }
      ]
    },
    {
      "cell_type": "code",
      "source": [
        "from sklearn.ensemble import RandomForestClassifier\n",
        "from sklearn.model_selection import train_test_split\n",
        "X_df = df.drop('label', axis=1)\n",
        "y_df = df['label']\n",
        "Xtrain, Xtest, ytrain, ytest = train_test_split(X_df, y_df, test_size=0.2, random_state=1)\n"
      ],
      "metadata": {
        "id": "lghXcinEh5Ab"
      },
      "execution_count": null,
      "outputs": []
    },
    {
      "cell_type": "code",
      "source": [
        "!pip install pyngrok --quiet\n",
        "!pip install mlflow --quiet\n",
        "import mlflow"
      ],
      "metadata": {
        "colab": {
          "base_uri": "https://localhost:8080/"
        },
        "id": "j6Tqc7oKqCmx",
        "outputId": "f840fcc2-70b5-428a-c0af-961040f1b63e"
      },
      "execution_count": null,
      "outputs": [
        {
          "output_type": "stream",
          "name": "stdout",
          "text": [
            "\u001b[?25l\r\u001b[K     |▍                               | 10 kB 21.8 MB/s eta 0:00:01\r\u001b[K     |▉                               | 20 kB 16.5 MB/s eta 0:00:01\r\u001b[K     |█▎                              | 30 kB 7.5 MB/s eta 0:00:01\r\u001b[K     |█▊                              | 40 kB 6.5 MB/s eta 0:00:01\r\u001b[K     |██▏                             | 51 kB 6.6 MB/s eta 0:00:01\r\u001b[K     |██▋                             | 61 kB 4.7 MB/s eta 0:00:01\r\u001b[K     |███                             | 71 kB 4.4 MB/s eta 0:00:01\r\u001b[K     |███▌                            | 81 kB 5.0 MB/s eta 0:00:01\r\u001b[K     |████                            | 92 kB 5.3 MB/s eta 0:00:01\r\u001b[K     |████▍                           | 102 kB 5.8 MB/s eta 0:00:01\r\u001b[K     |████▉                           | 112 kB 5.8 MB/s eta 0:00:01\r\u001b[K     |█████▎                          | 122 kB 5.8 MB/s eta 0:00:01\r\u001b[K     |█████▊                          | 133 kB 5.8 MB/s eta 0:00:01\r\u001b[K     |██████▏                         | 143 kB 5.8 MB/s eta 0:00:01\r\u001b[K     |██████▋                         | 153 kB 5.8 MB/s eta 0:00:01\r\u001b[K     |███████                         | 163 kB 5.8 MB/s eta 0:00:01\r\u001b[K     |███████▌                        | 174 kB 5.8 MB/s eta 0:00:01\r\u001b[K     |████████                        | 184 kB 5.8 MB/s eta 0:00:01\r\u001b[K     |████████▍                       | 194 kB 5.8 MB/s eta 0:00:01\r\u001b[K     |████████▉                       | 204 kB 5.8 MB/s eta 0:00:01\r\u001b[K     |█████████▎                      | 215 kB 5.8 MB/s eta 0:00:01\r\u001b[K     |█████████▊                      | 225 kB 5.8 MB/s eta 0:00:01\r\u001b[K     |██████████▏                     | 235 kB 5.8 MB/s eta 0:00:01\r\u001b[K     |██████████▌                     | 245 kB 5.8 MB/s eta 0:00:01\r\u001b[K     |███████████                     | 256 kB 5.8 MB/s eta 0:00:01\r\u001b[K     |███████████▍                    | 266 kB 5.8 MB/s eta 0:00:01\r\u001b[K     |███████████▉                    | 276 kB 5.8 MB/s eta 0:00:01\r\u001b[K     |████████████▎                   | 286 kB 5.8 MB/s eta 0:00:01\r\u001b[K     |████████████▊                   | 296 kB 5.8 MB/s eta 0:00:01\r\u001b[K     |█████████████▏                  | 307 kB 5.8 MB/s eta 0:00:01\r\u001b[K     |█████████████▋                  | 317 kB 5.8 MB/s eta 0:00:01\r\u001b[K     |██████████████                  | 327 kB 5.8 MB/s eta 0:00:01\r\u001b[K     |██████████████▌                 | 337 kB 5.8 MB/s eta 0:00:01\r\u001b[K     |███████████████                 | 348 kB 5.8 MB/s eta 0:00:01\r\u001b[K     |███████████████▍                | 358 kB 5.8 MB/s eta 0:00:01\r\u001b[K     |███████████████▉                | 368 kB 5.8 MB/s eta 0:00:01\r\u001b[K     |████████████████▎               | 378 kB 5.8 MB/s eta 0:00:01\r\u001b[K     |████████████████▊               | 389 kB 5.8 MB/s eta 0:00:01\r\u001b[K     |█████████████████▏              | 399 kB 5.8 MB/s eta 0:00:01\r\u001b[K     |█████████████████▋              | 409 kB 5.8 MB/s eta 0:00:01\r\u001b[K     |██████████████████              | 419 kB 5.8 MB/s eta 0:00:01\r\u001b[K     |██████████████████▌             | 430 kB 5.8 MB/s eta 0:00:01\r\u001b[K     |███████████████████             | 440 kB 5.8 MB/s eta 0:00:01\r\u001b[K     |███████████████████▍            | 450 kB 5.8 MB/s eta 0:00:01\r\u001b[K     |███████████████████▉            | 460 kB 5.8 MB/s eta 0:00:01\r\u001b[K     |████████████████████▎           | 471 kB 5.8 MB/s eta 0:00:01\r\u001b[K     |████████████████████▋           | 481 kB 5.8 MB/s eta 0:00:01\r\u001b[K     |█████████████████████           | 491 kB 5.8 MB/s eta 0:00:01\r\u001b[K     |█████████████████████▌          | 501 kB 5.8 MB/s eta 0:00:01\r\u001b[K     |██████████████████████          | 512 kB 5.8 MB/s eta 0:00:01\r\u001b[K     |██████████████████████▍         | 522 kB 5.8 MB/s eta 0:00:01\r\u001b[K     |██████████████████████▉         | 532 kB 5.8 MB/s eta 0:00:01\r\u001b[K     |███████████████████████▎        | 542 kB 5.8 MB/s eta 0:00:01\r\u001b[K     |███████████████████████▊        | 552 kB 5.8 MB/s eta 0:00:01\r\u001b[K     |████████████████████████▏       | 563 kB 5.8 MB/s eta 0:00:01\r\u001b[K     |████████████████████████▋       | 573 kB 5.8 MB/s eta 0:00:01\r\u001b[K     |█████████████████████████       | 583 kB 5.8 MB/s eta 0:00:01\r\u001b[K     |█████████████████████████▌      | 593 kB 5.8 MB/s eta 0:00:01\r\u001b[K     |██████████████████████████      | 604 kB 5.8 MB/s eta 0:00:01\r\u001b[K     |██████████████████████████▍     | 614 kB 5.8 MB/s eta 0:00:01\r\u001b[K     |██████████████████████████▉     | 624 kB 5.8 MB/s eta 0:00:01\r\u001b[K     |███████████████████████████▎    | 634 kB 5.8 MB/s eta 0:00:01\r\u001b[K     |███████████████████████████▊    | 645 kB 5.8 MB/s eta 0:00:01\r\u001b[K     |████████████████████████████▏   | 655 kB 5.8 MB/s eta 0:00:01\r\u001b[K     |████████████████████████████▋   | 665 kB 5.8 MB/s eta 0:00:01\r\u001b[K     |█████████████████████████████   | 675 kB 5.8 MB/s eta 0:00:01\r\u001b[K     |█████████████████████████████▌  | 686 kB 5.8 MB/s eta 0:00:01\r\u001b[K     |██████████████████████████████  | 696 kB 5.8 MB/s eta 0:00:01\r\u001b[K     |██████████████████████████████▍ | 706 kB 5.8 MB/s eta 0:00:01\r\u001b[K     |██████████████████████████████▊ | 716 kB 5.8 MB/s eta 0:00:01\r\u001b[K     |███████████████████████████████▏| 727 kB 5.8 MB/s eta 0:00:01\r\u001b[K     |███████████████████████████████▋| 737 kB 5.8 MB/s eta 0:00:01\r\u001b[K     |████████████████████████████████| 745 kB 5.8 MB/s \n",
            "\u001b[?25h  Building wheel for pyngrok (setup.py) ... \u001b[?25l\u001b[?25hdone\n",
            "\u001b[K     |████████████████████████████████| 15.5 MB 7.6 MB/s \n",
            "\u001b[K     |████████████████████████████████| 1.1 MB 45.2 MB/s \n",
            "\u001b[K     |████████████████████████████████| 146 kB 59.0 MB/s \n",
            "\u001b[K     |████████████████████████████████| 596 kB 59.3 MB/s \n",
            "\u001b[K     |████████████████████████████████| 79 kB 7.2 MB/s \n",
            "\u001b[K     |████████████████████████████████| 180 kB 63.4 MB/s \n",
            "\u001b[K     |████████████████████████████████| 58 kB 6.6 MB/s \n",
            "\u001b[K     |████████████████████████████████| 75 kB 4.9 MB/s \n",
            "\u001b[K     |████████████████████████████████| 53 kB 2.3 MB/s \n",
            "\u001b[K     |████████████████████████████████| 63 kB 2.0 MB/s \n",
            "\u001b[?25h  Building wheel for alembic (setup.py) ... \u001b[?25l\u001b[?25hdone\n",
            "  Building wheel for databricks-cli (setup.py) ... \u001b[?25l\u001b[?25hdone\n"
          ]
        }
      ]
    },
    {
      "cell_type": "code",
      "source": [
        "from sklearn.ensemble import RandomForestClassifier\n",
        "from sklearn.ensemble import GradientBoostingClassifier\n",
        "from sklearn.naive_bayes import GaussianNB\n",
        "from sklearn.neighbors import KNeighborsClassifier\n",
        "from sklearn.tree import DecisionTreeClassifier\n",
        "from sklearn.svm import SVC\n",
        "from sklearn.metrics import accuracy_score, f1_score, recall_score, precision_score\n",
        "\n",
        "models = [RandomForestClassifier(), SVC(), KNeighborsClassifier(), GaussianNB(), DecisionTreeClassifier()]\n",
        "labels = [\"randomForest\",\"SVC\",\"KNeighborsClassifier\",\"GaussianNB\", \"DecisionTreeClassifier\"]\n",
        "for model, label in zip(models,labels):\n",
        "  model.fit(Xtrain, ytrain)\n",
        "  Y_model = model.predict(Xtest)      \n",
        "  Ypred_train = model.predict(Xtrain)\n",
        "  with mlflow.start_run(run_name=f\"{label}\"):\n",
        "    mlflow.log_metric(\"ACC_TRAINING\" , accuracy_score(ytrain, Ypred_train))\n",
        "    mlflow.log_metric(\"ACC_TEST\" , accuracy_score(ytest, Y_model))\n",
        "    mlflow.log_metric(\"F1_TRAINING\" , f1_score(ytrain, Ypred_train,average='weighted'))\n",
        "    mlflow.log_metric(\"F1_TEST\" , f1_score(ytest, Y_model,average='weighted'))\n",
        "    mlflow.log_metric(\"PRECISION_TRAINING\" , precision_score(ytrain, Ypred_train,average='weighted'))\n",
        "    mlflow.log_metric(\"PRECISION_TEST\" , precision_score(ytest, Y_model,average='weighted'))\n",
        "    mlflow.log_metric(\"RECALL_TRAINING\" , recall_score(ytrain, Ypred_train,average='weighted'))\n",
        "    mlflow.log_metric(\"RECALL_TEST\" , recall_score(ytest, Y_model,average='weighted'))"
      ],
      "metadata": {
        "id": "-FADASyHp4Qt"
      },
      "execution_count": null,
      "outputs": []
    },
    {
      "cell_type": "markdown",
      "source": [
        "#KNN pos todo mundo pra *mamar*"
      ],
      "metadata": {
        "id": "yqMoTqsQswfk"
      }
    },
    {
      "cell_type": "code",
      "source": [
        "!pip install optuna"
      ],
      "metadata": {
        "colab": {
          "base_uri": "https://localhost:8080/"
        },
        "id": "7IrDGQwt_1qD",
        "outputId": "e46268d5-8cc6-4fed-d1e9-45a57e7efc0d"
      },
      "execution_count": null,
      "outputs": [
        {
          "output_type": "stream",
          "name": "stdout",
          "text": [
            "Collecting optuna\n",
            "  Downloading optuna-2.10.0-py3-none-any.whl (308 kB)\n",
            "\u001b[?25l\r\u001b[K     |█                               | 10 kB 14.2 MB/s eta 0:00:01\r\u001b[K     |██▏                             | 20 kB 9.0 MB/s eta 0:00:01\r\u001b[K     |███▏                            | 30 kB 7.9 MB/s eta 0:00:01\r\u001b[K     |████▎                           | 40 kB 7.5 MB/s eta 0:00:01\r\u001b[K     |█████▎                          | 51 kB 6.4 MB/s eta 0:00:01\r\u001b[K     |██████▍                         | 61 kB 6.4 MB/s eta 0:00:01\r\u001b[K     |███████▍                        | 71 kB 5.6 MB/s eta 0:00:01\r\u001b[K     |████████▌                       | 81 kB 6.3 MB/s eta 0:00:01\r\u001b[K     |█████████▋                      | 92 kB 6.3 MB/s eta 0:00:01\r\u001b[K     |██████████▋                     | 102 kB 6.5 MB/s eta 0:00:01\r\u001b[K     |███████████▊                    | 112 kB 6.5 MB/s eta 0:00:01\r\u001b[K     |████████████▊                   | 122 kB 6.5 MB/s eta 0:00:01\r\u001b[K     |█████████████▉                  | 133 kB 6.5 MB/s eta 0:00:01\r\u001b[K     |██████████████▉                 | 143 kB 6.5 MB/s eta 0:00:01\r\u001b[K     |████████████████                | 153 kB 6.5 MB/s eta 0:00:01\r\u001b[K     |█████████████████               | 163 kB 6.5 MB/s eta 0:00:01\r\u001b[K     |██████████████████              | 174 kB 6.5 MB/s eta 0:00:01\r\u001b[K     |███████████████████▏            | 184 kB 6.5 MB/s eta 0:00:01\r\u001b[K     |████████████████████▏           | 194 kB 6.5 MB/s eta 0:00:01\r\u001b[K     |█████████████████████▎          | 204 kB 6.5 MB/s eta 0:00:01\r\u001b[K     |██████████████████████▎         | 215 kB 6.5 MB/s eta 0:00:01\r\u001b[K     |███████████████████████▍        | 225 kB 6.5 MB/s eta 0:00:01\r\u001b[K     |████████████████████████▌       | 235 kB 6.5 MB/s eta 0:00:01\r\u001b[K     |█████████████████████████▌      | 245 kB 6.5 MB/s eta 0:00:01\r\u001b[K     |██████████████████████████▋     | 256 kB 6.5 MB/s eta 0:00:01\r\u001b[K     |███████████████████████████▋    | 266 kB 6.5 MB/s eta 0:00:01\r\u001b[K     |████████████████████████████▊   | 276 kB 6.5 MB/s eta 0:00:01\r\u001b[K     |█████████████████████████████▊  | 286 kB 6.5 MB/s eta 0:00:01\r\u001b[K     |██████████████████████████████▉ | 296 kB 6.5 MB/s eta 0:00:01\r\u001b[K     |████████████████████████████████| 307 kB 6.5 MB/s eta 0:00:01\r\u001b[K     |████████████████████████████████| 308 kB 6.5 MB/s \n",
            "\u001b[?25hRequirement already satisfied: sqlalchemy>=1.1.0 in /usr/local/lib/python3.7/dist-packages (from optuna) (1.4.27)\n",
            "Collecting cmaes>=0.8.2\n",
            "  Downloading cmaes-0.8.2-py3-none-any.whl (15 kB)\n",
            "Requirement already satisfied: packaging>=20.0 in /usr/local/lib/python3.7/dist-packages (from optuna) (21.3)\n",
            "Requirement already satisfied: PyYAML in /usr/local/lib/python3.7/dist-packages (from optuna) (6.0)\n",
            "Collecting cliff\n",
            "  Downloading cliff-3.10.0-py3-none-any.whl (80 kB)\n",
            "\u001b[K     |████████████████████████████████| 80 kB 10.1 MB/s \n",
            "\u001b[?25hRequirement already satisfied: scipy!=1.4.0 in /usr/local/lib/python3.7/dist-packages (from optuna) (1.4.1)\n",
            "Requirement already satisfied: alembic in /usr/local/lib/python3.7/dist-packages (from optuna) (1.4.1)\n",
            "Requirement already satisfied: tqdm in /usr/local/lib/python3.7/dist-packages (from optuna) (4.62.3)\n",
            "Collecting colorlog\n",
            "  Downloading colorlog-6.6.0-py2.py3-none-any.whl (11 kB)\n",
            "Requirement already satisfied: numpy in /usr/local/lib/python3.7/dist-packages (from optuna) (1.19.5)\n",
            "Requirement already satisfied: pyparsing!=3.0.5,>=2.0.2 in /usr/local/lib/python3.7/dist-packages (from packaging>=20.0->optuna) (3.0.6)\n",
            "Requirement already satisfied: importlib-metadata in /usr/local/lib/python3.7/dist-packages (from sqlalchemy>=1.1.0->optuna) (4.8.2)\n",
            "Requirement already satisfied: greenlet!=0.4.17 in /usr/local/lib/python3.7/dist-packages (from sqlalchemy>=1.1.0->optuna) (1.1.2)\n",
            "Requirement already satisfied: Mako in /usr/local/lib/python3.7/dist-packages (from alembic->optuna) (1.1.6)\n",
            "Requirement already satisfied: python-editor>=0.3 in /usr/local/lib/python3.7/dist-packages (from alembic->optuna) (1.0.4)\n",
            "Requirement already satisfied: python-dateutil in /usr/local/lib/python3.7/dist-packages (from alembic->optuna) (2.8.2)\n",
            "Collecting stevedore>=2.0.1\n",
            "  Downloading stevedore-3.5.0-py3-none-any.whl (49 kB)\n",
            "\u001b[K     |████████████████████████████████| 49 kB 7.3 MB/s \n",
            "\u001b[?25hCollecting autopage>=0.4.0\n",
            "  Downloading autopage-0.4.0-py3-none-any.whl (20 kB)\n",
            "Collecting cmd2>=1.0.0\n",
            "  Downloading cmd2-2.3.3-py3-none-any.whl (149 kB)\n",
            "\u001b[K     |████████████████████████████████| 149 kB 71.0 MB/s \n",
            "\u001b[?25hRequirement already satisfied: PrettyTable>=0.7.2 in /usr/local/lib/python3.7/dist-packages (from cliff->optuna) (2.4.0)\n",
            "Collecting pbr!=2.1.0,>=2.0.0\n",
            "  Downloading pbr-5.8.0-py2.py3-none-any.whl (112 kB)\n",
            "\u001b[K     |████████████████████████████████| 112 kB 74.9 MB/s \n",
            "\u001b[?25hRequirement already satisfied: wcwidth>=0.1.7 in /usr/local/lib/python3.7/dist-packages (from cmd2>=1.0.0->cliff->optuna) (0.2.5)\n",
            "Requirement already satisfied: attrs>=16.3.0 in /usr/local/lib/python3.7/dist-packages (from cmd2>=1.0.0->cliff->optuna) (21.2.0)\n",
            "Collecting pyperclip>=1.6\n",
            "  Downloading pyperclip-1.8.2.tar.gz (20 kB)\n",
            "Requirement already satisfied: typing-extensions in /usr/local/lib/python3.7/dist-packages (from cmd2>=1.0.0->cliff->optuna) (3.10.0.2)\n",
            "Requirement already satisfied: zipp>=0.5 in /usr/local/lib/python3.7/dist-packages (from importlib-metadata->sqlalchemy>=1.1.0->optuna) (3.6.0)\n",
            "Requirement already satisfied: MarkupSafe>=0.9.2 in /usr/local/lib/python3.7/dist-packages (from Mako->alembic->optuna) (2.0.1)\n",
            "Requirement already satisfied: six>=1.5 in /usr/local/lib/python3.7/dist-packages (from python-dateutil->alembic->optuna) (1.15.0)\n",
            "Building wheels for collected packages: pyperclip\n",
            "  Building wheel for pyperclip (setup.py) ... \u001b[?25l\u001b[?25hdone\n",
            "  Created wheel for pyperclip: filename=pyperclip-1.8.2-py3-none-any.whl size=11136 sha256=667d9871864b71005380139408a26c4e78457f393f238dbc75503ab6697d108a\n",
            "  Stored in directory: /root/.cache/pip/wheels/9f/18/84/8f69f8b08169c7bae2dde6bd7daf0c19fca8c8e500ee620a28\n",
            "Successfully built pyperclip\n",
            "Installing collected packages: pyperclip, pbr, stevedore, cmd2, autopage, colorlog, cmaes, cliff, optuna\n",
            "Successfully installed autopage-0.4.0 cliff-3.10.0 cmaes-0.8.2 cmd2-2.3.3 colorlog-6.6.0 optuna-2.10.0 pbr-5.8.0 pyperclip-1.8.2 stevedore-3.5.0\n"
          ]
        }
      ]
    },
    {
      "cell_type": "code",
      "source": [
        "import optuna\n",
        "\n",
        "def createModel(n_neighbors,weights,algorithm,p):\n",
        "  model = KNeighborsClassifier(n_neighbors=n_neighbors,weights=weights,algorithm=algorithm,p=p)\n",
        "  return model\n",
        "#Step 1. Define an objective function to be maximized.\n",
        "def objective(trial):\n",
        "    \n",
        "    n_neighbors = trial.suggest_int(\"n_neighbors\",2,30)\n",
        "    weights = trial.suggest_categorical(\"weights\", [\"uniform\", \"distance\"])\n",
        "    algorithm = trial.suggest_categorical(\"algorithm\", [\"auto\", \"ball_tree\", \"kd_tree\", \"brute\"])\n",
        "    p = trial.suggest_int(\"p\",1,5)\n",
        "    model = createModel(n_neighbors,weights,algorithm,p)\n",
        "    #model.compile(loss='categorical_crossentropy',\n",
        "    #          optimizer='adam',\n",
        "    #          metrics=['accuracy'])\n",
        "    for step in range(100):\n",
        "        model.fit(Xtrain, ytrain)\n",
        "        \n",
        "        #intermediate_value = model.evaluate(X_val, Y_val) #dando um score para o modelo treinado\n",
        "        y_model = model.predict(Xtest)           \n",
        "\n",
        "        trial.report(f1_score(ytest, y_model,average='weighted'), step)\n",
        "\n",
        "        # Handle pruning based on the intermediate value.\n",
        "        if trial.should_prune():\n",
        "            raise optuna.TrialPruned()\n",
        "        return f1_score(ytest, y_model,average='weighted')\n",
        "\n",
        "# Step 4: Running it\n",
        "study = optuna.create_study(direction=\"maximize\")\n",
        "study.optimize(objective, n_trials=100)\n",
        "\n",
        "# Calculating the pruned and completed trials\n",
        "pruned_trials = [t for t in study.trials if t.state == optuna.trial.TrialState.PRUNED]\n",
        "complete_trials = [t for t in study.trials if t.state == optuna.trial.TrialState.COMPLETE]\n",
        "\n",
        "print(\"  Number of finished trials: \", len(study.trials))\n",
        "print(\"  Number of pruned trials: \", len(pruned_trials))\n",
        "print(\"  Number of complete trials: \", len(complete_trials))"
      ],
      "metadata": {
        "colab": {
          "base_uri": "https://localhost:8080/"
        },
        "id": "dAVoPtOhAmNO",
        "outputId": "40a714f5-7ecd-448c-8c4f-481229fdaf26"
      },
      "execution_count": null,
      "outputs": [
        {
          "output_type": "stream",
          "name": "stderr",
          "text": [
            "\u001b[32m[I 2021-12-28 18:05:45,751]\u001b[0m A new study created in memory with name: no-name-ffd6db03-776b-4078-af32-22bd1de1cf7b\u001b[0m\n",
            "\u001b[32m[I 2021-12-28 18:05:45,854]\u001b[0m Trial 0 finished with value: 0.9401911978823864 and parameters: {'n_neighbors': 20, 'weights': 'distance', 'algorithm': 'brute', 'p': 2}. Best is trial 0 with value: 0.9401911978823864.\u001b[0m\n",
            "\u001b[32m[I 2021-12-28 18:05:45,938]\u001b[0m Trial 1 finished with value: 0.9680462387088012 and parameters: {'n_neighbors': 2, 'weights': 'distance', 'algorithm': 'brute', 'p': 1}. Best is trial 1 with value: 0.9680462387088012.\u001b[0m\n",
            "\u001b[32m[I 2021-12-28 18:05:49,649]\u001b[0m Trial 2 finished with value: 0.9502577921390333 and parameters: {'n_neighbors': 2, 'weights': 'uniform', 'algorithm': 'brute', 'p': 3}. Best is trial 1 with value: 0.9680462387088012.\u001b[0m\n",
            "\u001b[32m[I 2021-12-28 18:05:50,725]\u001b[0m Trial 3 finished with value: 0.9092051186844052 and parameters: {'n_neighbors': 27, 'weights': 'uniform', 'algorithm': 'auto', 'p': 5}. Best is trial 1 with value: 0.9680462387088012.\u001b[0m\n",
            "\u001b[32m[I 2021-12-28 18:05:51,451]\u001b[0m Trial 4 finished with value: 0.9376145199729713 and parameters: {'n_neighbors': 11, 'weights': 'uniform', 'algorithm': 'auto', 'p': 5}. Best is trial 1 with value: 0.9680462387088012.\u001b[0m\n",
            "\u001b[32m[I 2021-12-28 18:05:51,566]\u001b[0m Trial 5 finished with value: 0.9566693537782388 and parameters: {'n_neighbors': 13, 'weights': 'distance', 'algorithm': 'ball_tree', 'p': 1}. Best is trial 1 with value: 0.9680462387088012.\u001b[0m\n",
            "\u001b[32m[I 2021-12-28 18:05:52,357]\u001b[0m Trial 6 finished with value: 0.955380894217616 and parameters: {'n_neighbors': 3, 'weights': 'uniform', 'algorithm': 'auto', 'p': 3}. Best is trial 1 with value: 0.9680462387088012.\u001b[0m\n",
            "\u001b[32m[I 2021-12-28 18:05:53,519]\u001b[0m Trial 7 pruned. \u001b[0m\n",
            "\u001b[32m[I 2021-12-28 18:05:53,678]\u001b[0m Trial 8 pruned. \u001b[0m\n",
            "\u001b[32m[I 2021-12-28 18:06:00,393]\u001b[0m Trial 9 pruned. \u001b[0m\n",
            "\u001b[32m[I 2021-12-28 18:06:00,555]\u001b[0m Trial 10 finished with value: 0.9594985820510243 and parameters: {'n_neighbors': 7, 'weights': 'distance', 'algorithm': 'kd_tree', 'p': 2}. Best is trial 1 with value: 0.9680462387088012.\u001b[0m\n",
            "\u001b[32m[I 2021-12-28 18:06:00,670]\u001b[0m Trial 11 finished with value: 0.9594985820510243 and parameters: {'n_neighbors': 7, 'weights': 'distance', 'algorithm': 'kd_tree', 'p': 2}. Best is trial 1 with value: 0.9680462387088012.\u001b[0m\n",
            "\u001b[32m[I 2021-12-28 18:06:00,769]\u001b[0m Trial 12 finished with value: 0.9594985820510243 and parameters: {'n_neighbors': 7, 'weights': 'distance', 'algorithm': 'kd_tree', 'p': 2}. Best is trial 1 with value: 0.9680462387088012.\u001b[0m\n",
            "\u001b[32m[I 2021-12-28 18:06:00,872]\u001b[0m Trial 13 finished with value: 0.9593601145541841 and parameters: {'n_neighbors': 7, 'weights': 'distance', 'algorithm': 'kd_tree', 'p': 1}. Best is trial 1 with value: 0.9680462387088012.\u001b[0m\n",
            "\u001b[32m[I 2021-12-28 18:06:01,028]\u001b[0m Trial 14 finished with value: 0.9597481288473101 and parameters: {'n_neighbors': 4, 'weights': 'distance', 'algorithm': 'brute', 'p': 2}. Best is trial 1 with value: 0.9680462387088012.\u001b[0m\n",
            "\u001b[32m[I 2021-12-28 18:06:07,374]\u001b[0m Trial 15 pruned. \u001b[0m\n",
            "\u001b[32m[I 2021-12-28 18:06:07,541]\u001b[0m Trial 16 finished with value: 0.9616960935735538 and parameters: {'n_neighbors': 11, 'weights': 'distance', 'algorithm': 'brute', 'p': 1}. Best is trial 1 with value: 0.9680462387088012.\u001b[0m\n",
            "\u001b[32m[I 2021-12-28 18:06:07,667]\u001b[0m Trial 17 pruned. \u001b[0m\n",
            "\u001b[32m[I 2021-12-28 18:06:11,896]\u001b[0m Trial 18 pruned. \u001b[0m\n",
            "\u001b[32m[I 2021-12-28 18:06:11,983]\u001b[0m Trial 19 finished with value: 0.9616960935735538 and parameters: {'n_neighbors': 10, 'weights': 'distance', 'algorithm': 'brute', 'p': 1}. Best is trial 1 with value: 0.9680462387088012.\u001b[0m\n",
            "\u001b[32m[I 2021-12-28 18:06:13,615]\u001b[0m Trial 20 pruned. \u001b[0m\n",
            "\u001b[32m[I 2021-12-28 18:06:13,713]\u001b[0m Trial 21 finished with value: 0.9616960935735538 and parameters: {'n_neighbors': 10, 'weights': 'distance', 'algorithm': 'brute', 'p': 1}. Best is trial 1 with value: 0.9680462387088012.\u001b[0m\n",
            "\u001b[32m[I 2021-12-28 18:06:13,798]\u001b[0m Trial 22 finished with value: 0.9605137503020126 and parameters: {'n_neighbors': 9, 'weights': 'distance', 'algorithm': 'brute', 'p': 1}. Best is trial 1 with value: 0.9680462387088012.\u001b[0m\n",
            "\u001b[32m[I 2021-12-28 18:06:13,883]\u001b[0m Trial 23 pruned. \u001b[0m\n",
            "\u001b[32m[I 2021-12-28 18:06:13,977]\u001b[0m Trial 24 finished with value: 0.9631471266141346 and parameters: {'n_neighbors': 5, 'weights': 'distance', 'algorithm': 'brute', 'p': 2}. Best is trial 1 with value: 0.9680462387088012.\u001b[0m\n",
            "\u001b[32m[I 2021-12-28 18:06:14,077]\u001b[0m Trial 25 finished with value: 0.9631471266141346 and parameters: {'n_neighbors': 5, 'weights': 'distance', 'algorithm': 'brute', 'p': 2}. Best is trial 1 with value: 0.9680462387088012.\u001b[0m\n",
            "\u001b[32m[I 2021-12-28 18:06:14,176]\u001b[0m Trial 26 finished with value: 0.9631471266141346 and parameters: {'n_neighbors': 5, 'weights': 'distance', 'algorithm': 'brute', 'p': 2}. Best is trial 1 with value: 0.9680462387088012.\u001b[0m\n",
            "\u001b[32m[I 2021-12-28 18:06:14,299]\u001b[0m Trial 27 finished with value: 0.9631471266141346 and parameters: {'n_neighbors': 5, 'weights': 'distance', 'algorithm': 'brute', 'p': 2}. Best is trial 1 with value: 0.9680462387088012.\u001b[0m\n",
            "\u001b[32m[I 2021-12-28 18:06:15,759]\u001b[0m Trial 28 finished with value: 0.9629749566713581 and parameters: {'n_neighbors': 2, 'weights': 'distance', 'algorithm': 'ball_tree', 'p': 3}. Best is trial 1 with value: 0.9680462387088012.\u001b[0m\n",
            "\u001b[32m[I 2021-12-28 18:06:15,857]\u001b[0m Trial 29 finished with value: 0.9631471266141346 and parameters: {'n_neighbors': 5, 'weights': 'distance', 'algorithm': 'brute', 'p': 2}. Best is trial 1 with value: 0.9680462387088012.\u001b[0m\n",
            "\u001b[32m[I 2021-12-28 18:06:18,987]\u001b[0m Trial 30 pruned. \u001b[0m\n",
            "\u001b[32m[I 2021-12-28 18:06:19,082]\u001b[0m Trial 31 finished with value: 0.9631471266141346 and parameters: {'n_neighbors': 5, 'weights': 'distance', 'algorithm': 'brute', 'p': 2}. Best is trial 1 with value: 0.9680462387088012.\u001b[0m\n",
            "\u001b[32m[I 2021-12-28 18:06:19,160]\u001b[0m Trial 32 finished with value: 0.9692657232102666 and parameters: {'n_neighbors': 2, 'weights': 'distance', 'algorithm': 'brute', 'p': 2}. Best is trial 32 with value: 0.9692657232102666.\u001b[0m\n",
            "\u001b[32m[I 2021-12-28 18:06:22,273]\u001b[0m Trial 33 finished with value: 0.9629749566713581 and parameters: {'n_neighbors': 2, 'weights': 'distance', 'algorithm': 'brute', 'p': 3}. Best is trial 32 with value: 0.9692657232102666.\u001b[0m\n",
            "\u001b[32m[I 2021-12-28 18:06:22,350]\u001b[0m Trial 34 finished with value: 0.9692657232102666 and parameters: {'n_neighbors': 2, 'weights': 'distance', 'algorithm': 'brute', 'p': 2}. Best is trial 32 with value: 0.9692657232102666.\u001b[0m\n",
            "\u001b[32m[I 2021-12-28 18:06:22,695]\u001b[0m Trial 35 finished with value: 0.9629749566713581 and parameters: {'n_neighbors': 2, 'weights': 'distance', 'algorithm': 'auto', 'p': 3}. Best is trial 32 with value: 0.9692657232102666.\u001b[0m\n",
            "\u001b[32m[I 2021-12-28 18:06:22,822]\u001b[0m Trial 36 pruned. \u001b[0m\n",
            "\u001b[32m[I 2021-12-28 18:06:22,883]\u001b[0m Trial 37 pruned. \u001b[0m\n",
            "\u001b[32m[I 2021-12-28 18:06:24,380]\u001b[0m Trial 38 pruned. \u001b[0m\n",
            "\u001b[32m[I 2021-12-28 18:06:27,508]\u001b[0m Trial 39 pruned. \u001b[0m\n",
            "\u001b[32m[I 2021-12-28 18:06:27,560]\u001b[0m Trial 40 finished with value: 0.9680462387088012 and parameters: {'n_neighbors': 2, 'weights': 'distance', 'algorithm': 'auto', 'p': 1}. Best is trial 32 with value: 0.9692657232102666.\u001b[0m\n",
            "\u001b[32m[I 2021-12-28 18:06:27,610]\u001b[0m Trial 41 finished with value: 0.9680462387088012 and parameters: {'n_neighbors': 2, 'weights': 'distance', 'algorithm': 'auto', 'p': 1}. Best is trial 32 with value: 0.9692657232102666.\u001b[0m\n",
            "\u001b[32m[I 2021-12-28 18:06:27,663]\u001b[0m Trial 42 finished with value: 0.9619901824399714 and parameters: {'n_neighbors': 3, 'weights': 'distance', 'algorithm': 'auto', 'p': 1}. Best is trial 32 with value: 0.9692657232102666.\u001b[0m\n",
            "\u001b[32m[I 2021-12-28 18:06:27,715]\u001b[0m Trial 43 finished with value: 0.9680462387088012 and parameters: {'n_neighbors': 2, 'weights': 'distance', 'algorithm': 'auto', 'p': 1}. Best is trial 32 with value: 0.9692657232102666.\u001b[0m\n",
            "\u001b[32m[I 2021-12-28 18:06:27,770]\u001b[0m Trial 44 finished with value: 0.9631940184653407 and parameters: {'n_neighbors': 6, 'weights': 'distance', 'algorithm': 'auto', 'p': 1}. Best is trial 32 with value: 0.9692657232102666.\u001b[0m\n",
            "\u001b[32m[I 2021-12-28 18:06:27,820]\u001b[0m Trial 45 pruned. \u001b[0m\n",
            "\u001b[32m[I 2021-12-28 18:06:27,907]\u001b[0m Trial 46 pruned. \u001b[0m\n",
            "\u001b[32m[I 2021-12-28 18:06:27,960]\u001b[0m Trial 47 pruned. \u001b[0m\n",
            "\u001b[32m[I 2021-12-28 18:06:28,020]\u001b[0m Trial 48 finished with value: 0.9680462387088012 and parameters: {'n_neighbors': 2, 'weights': 'distance', 'algorithm': 'auto', 'p': 1}. Best is trial 32 with value: 0.9692657232102666.\u001b[0m\n",
            "\u001b[32m[I 2021-12-28 18:06:28,062]\u001b[0m Trial 49 pruned. \u001b[0m\n",
            "\u001b[32m[I 2021-12-28 18:06:28,118]\u001b[0m Trial 50 finished with value: 0.9631940184653407 and parameters: {'n_neighbors': 6, 'weights': 'distance', 'algorithm': 'auto', 'p': 1}. Best is trial 32 with value: 0.9692657232102666.\u001b[0m\n",
            "\u001b[32m[I 2021-12-28 18:06:28,172]\u001b[0m Trial 51 finished with value: 0.9680462387088012 and parameters: {'n_neighbors': 2, 'weights': 'distance', 'algorithm': 'auto', 'p': 1}. Best is trial 32 with value: 0.9692657232102666.\u001b[0m\n",
            "\u001b[32m[I 2021-12-28 18:06:28,221]\u001b[0m Trial 52 pruned. \u001b[0m\n",
            "\u001b[32m[I 2021-12-28 18:06:28,278]\u001b[0m Trial 53 pruned. \u001b[0m\n",
            "\u001b[32m[I 2021-12-28 18:06:28,328]\u001b[0m Trial 54 pruned. \u001b[0m\n",
            "\u001b[32m[I 2021-12-28 18:06:28,370]\u001b[0m Trial 55 pruned. \u001b[0m\n",
            "\u001b[32m[I 2021-12-28 18:06:28,445]\u001b[0m Trial 56 pruned. \u001b[0m\n",
            "\u001b[32m[I 2021-12-28 18:06:28,500]\u001b[0m Trial 57 pruned. \u001b[0m\n",
            "\u001b[32m[I 2021-12-28 18:06:28,968]\u001b[0m Trial 58 pruned. \u001b[0m\n",
            "\u001b[32m[I 2021-12-28 18:06:29,012]\u001b[0m Trial 59 pruned. \u001b[0m\n",
            "\u001b[32m[I 2021-12-28 18:06:29,078]\u001b[0m Trial 60 pruned. \u001b[0m\n",
            "\u001b[32m[I 2021-12-28 18:06:29,131]\u001b[0m Trial 61 finished with value: 0.9680462387088012 and parameters: {'n_neighbors': 2, 'weights': 'distance', 'algorithm': 'auto', 'p': 1}. Best is trial 32 with value: 0.9692657232102666.\u001b[0m\n",
            "\u001b[32m[I 2021-12-28 18:06:29,188]\u001b[0m Trial 62 finished with value: 0.9680462387088012 and parameters: {'n_neighbors': 2, 'weights': 'distance', 'algorithm': 'auto', 'p': 1}. Best is trial 32 with value: 0.9692657232102666.\u001b[0m\n",
            "\u001b[32m[I 2021-12-28 18:06:29,242]\u001b[0m Trial 63 finished with value: 0.9680462387088012 and parameters: {'n_neighbors': 2, 'weights': 'distance', 'algorithm': 'auto', 'p': 1}. Best is trial 32 with value: 0.9692657232102666.\u001b[0m\n",
            "\u001b[32m[I 2021-12-28 18:06:29,293]\u001b[0m Trial 64 pruned. \u001b[0m\n",
            "\u001b[32m[I 2021-12-28 18:06:29,350]\u001b[0m Trial 65 finished with value: 0.9631940184653407 and parameters: {'n_neighbors': 6, 'weights': 'distance', 'algorithm': 'auto', 'p': 1}. Best is trial 32 with value: 0.9692657232102666.\u001b[0m\n",
            "\u001b[32m[I 2021-12-28 18:06:29,451]\u001b[0m Trial 66 pruned. \u001b[0m\n",
            "\u001b[32m[I 2021-12-28 18:06:29,529]\u001b[0m Trial 67 pruned. \u001b[0m\n",
            "\u001b[32m[I 2021-12-28 18:06:29,583]\u001b[0m Trial 68 pruned. \u001b[0m\n",
            "\u001b[32m[I 2021-12-28 18:06:29,636]\u001b[0m Trial 69 finished with value: 0.9680462387088012 and parameters: {'n_neighbors': 2, 'weights': 'distance', 'algorithm': 'auto', 'p': 1}. Best is trial 32 with value: 0.9692657232102666.\u001b[0m\n",
            "\u001b[32m[I 2021-12-28 18:06:29,676]\u001b[0m Trial 70 pruned. \u001b[0m\n",
            "\u001b[32m[I 2021-12-28 18:06:29,738]\u001b[0m Trial 71 finished with value: 0.9644634756073639 and parameters: {'n_neighbors': 5, 'weights': 'distance', 'algorithm': 'ball_tree', 'p': 1}. Best is trial 32 with value: 0.9692657232102666.\u001b[0m\n",
            "\u001b[32m[I 2021-12-28 18:06:29,805]\u001b[0m Trial 72 pruned. \u001b[0m\n",
            "\u001b[32m[I 2021-12-28 18:06:29,859]\u001b[0m Trial 73 finished with value: 0.9680462387088012 and parameters: {'n_neighbors': 2, 'weights': 'distance', 'algorithm': 'auto', 'p': 1}. Best is trial 32 with value: 0.9692657232102666.\u001b[0m\n",
            "\u001b[32m[I 2021-12-28 18:06:29,924]\u001b[0m Trial 74 finished with value: 0.9680462387088012 and parameters: {'n_neighbors': 2, 'weights': 'distance', 'algorithm': 'auto', 'p': 1}. Best is trial 32 with value: 0.9692657232102666.\u001b[0m\n",
            "\u001b[32m[I 2021-12-28 18:06:29,968]\u001b[0m Trial 75 pruned. \u001b[0m\n",
            "\u001b[32m[I 2021-12-28 18:06:30,016]\u001b[0m Trial 76 pruned. \u001b[0m\n",
            "\u001b[32m[I 2021-12-28 18:06:30,086]\u001b[0m Trial 77 pruned. \u001b[0m\n",
            "\u001b[32m[I 2021-12-28 18:06:30,438]\u001b[0m Trial 78 pruned. \u001b[0m\n",
            "\u001b[32m[I 2021-12-28 18:06:30,529]\u001b[0m Trial 79 pruned. \u001b[0m\n",
            "\u001b[32m[I 2021-12-28 18:06:30,607]\u001b[0m Trial 80 pruned. \u001b[0m\n",
            "\u001b[32m[I 2021-12-28 18:06:30,661]\u001b[0m Trial 81 finished with value: 0.9680462387088012 and parameters: {'n_neighbors': 2, 'weights': 'distance', 'algorithm': 'auto', 'p': 1}. Best is trial 32 with value: 0.9692657232102666.\u001b[0m\n",
            "\u001b[32m[I 2021-12-28 18:06:30,715]\u001b[0m Trial 82 finished with value: 0.9680462387088012 and parameters: {'n_neighbors': 2, 'weights': 'distance', 'algorithm': 'auto', 'p': 1}. Best is trial 32 with value: 0.9692657232102666.\u001b[0m\n",
            "\u001b[32m[I 2021-12-28 18:06:30,769]\u001b[0m Trial 83 finished with value: 0.9680462387088012 and parameters: {'n_neighbors': 2, 'weights': 'distance', 'algorithm': 'auto', 'p': 1}. Best is trial 32 with value: 0.9692657232102666.\u001b[0m\n",
            "\u001b[32m[I 2021-12-28 18:06:30,819]\u001b[0m Trial 84 pruned. \u001b[0m\n",
            "\u001b[32m[I 2021-12-28 18:06:30,868]\u001b[0m Trial 85 pruned. \u001b[0m\n",
            "\u001b[32m[I 2021-12-28 18:06:30,932]\u001b[0m Trial 86 finished with value: 0.9644634756073639 and parameters: {'n_neighbors': 5, 'weights': 'distance', 'algorithm': 'kd_tree', 'p': 1}. Best is trial 32 with value: 0.9692657232102666.\u001b[0m\n",
            "\u001b[32m[I 2021-12-28 18:06:30,996]\u001b[0m Trial 87 pruned. \u001b[0m\n",
            "\u001b[32m[I 2021-12-28 18:06:31,067]\u001b[0m Trial 88 pruned. \u001b[0m\n",
            "\u001b[32m[I 2021-12-28 18:06:31,117]\u001b[0m Trial 89 pruned. \u001b[0m\n",
            "\u001b[32m[I 2021-12-28 18:06:31,171]\u001b[0m Trial 90 finished with value: 0.9680462387088012 and parameters: {'n_neighbors': 2, 'weights': 'distance', 'algorithm': 'auto', 'p': 1}. Best is trial 32 with value: 0.9692657232102666.\u001b[0m\n",
            "\u001b[32m[I 2021-12-28 18:06:31,227]\u001b[0m Trial 91 finished with value: 0.9680462387088012 and parameters: {'n_neighbors': 2, 'weights': 'distance', 'algorithm': 'auto', 'p': 1}. Best is trial 32 with value: 0.9692657232102666.\u001b[0m\n",
            "\u001b[32m[I 2021-12-28 18:06:31,277]\u001b[0m Trial 92 pruned. \u001b[0m\n",
            "\u001b[32m[I 2021-12-28 18:06:31,329]\u001b[0m Trial 93 pruned. \u001b[0m\n",
            "\u001b[32m[I 2021-12-28 18:06:31,386]\u001b[0m Trial 94 finished with value: 0.9680462387088012 and parameters: {'n_neighbors': 2, 'weights': 'distance', 'algorithm': 'auto', 'p': 1}. Best is trial 32 with value: 0.9692657232102666.\u001b[0m\n",
            "\u001b[32m[I 2021-12-28 18:06:31,734]\u001b[0m Trial 95 pruned. \u001b[0m\n",
            "\u001b[32m[I 2021-12-28 18:06:31,791]\u001b[0m Trial 96 finished with value: 0.9644634756073639 and parameters: {'n_neighbors': 5, 'weights': 'distance', 'algorithm': 'auto', 'p': 1}. Best is trial 32 with value: 0.9692657232102666.\u001b[0m\n",
            "\u001b[32m[I 2021-12-28 18:06:31,880]\u001b[0m Trial 97 pruned. \u001b[0m\n",
            "\u001b[32m[I 2021-12-28 18:06:31,934]\u001b[0m Trial 98 finished with value: 0.9680462387088012 and parameters: {'n_neighbors': 2, 'weights': 'distance', 'algorithm': 'auto', 'p': 1}. Best is trial 32 with value: 0.9692657232102666.\u001b[0m\n",
            "\u001b[32m[I 2021-12-28 18:06:31,983]\u001b[0m Trial 99 pruned. \u001b[0m\n"
          ]
        },
        {
          "output_type": "stream",
          "name": "stdout",
          "text": [
            "  Number of finished trials:  100\n",
            "  Number of pruned trials:  48\n",
            "  Number of complete trials:  52\n"
          ]
        }
      ]
    },
    {
      "cell_type": "code",
      "source": [
        "\n",
        "model = KNeighborsClassifier(n_neighbors=2,weights='distance',algorithm='brute',p=2)\n",
        "model.fit(Xtrain, ytrain)                 \n",
        "y_model = model.predict(Xtest)           \n",
        "ypred_train = model.predict(Xtrain)   "
      ],
      "metadata": {
        "id": "SQNBVKBxjUyX"
      },
      "execution_count": null,
      "outputs": []
    },
    {
      "cell_type": "code",
      "source": [
        "print(\"ACC TRAINING:\" + str(accuracy_score(ytrain, ypred_train)))\n",
        "print(\"ACC TEST:\" + str(accuracy_score(ytest, y_model)))\n",
        "print(\"f1 TRAINING:\" + str(f1_score(ytrain, ypred_train,average='weighted')))\n",
        "print(\"f1 TEST:\" + str(f1_score(ytest, y_model,average='weighted')))\n",
        "print(\"recall TRAINING:\" + str(recall_score(ytrain, ypred_train,average='weighted')))\n",
        "print(\"recall TEST:\" + str(recall_score(ytest, y_model,average='weighted')))\n",
        "print(\"precision TRAINING:\" + str(precision_score(ytrain, ypred_train,average='weighted')))\n",
        "print(\"precision TEST:\" + str(precision_score(ytest, y_model,average='weighted')))"
      ],
      "metadata": {
        "colab": {
          "base_uri": "https://localhost:8080/"
        },
        "id": "l8XADUCtjXML",
        "outputId": "b77dc376-e521-4e16-df1a-bd498f0c60d8"
      },
      "execution_count": null,
      "outputs": [
        {
          "output_type": "stream",
          "name": "stdout",
          "text": [
            "ACC TRAINING:1.0\n",
            "ACC TEST:0.969059405940594\n",
            "f1 TRAINING:1.0\n",
            "f1 TEST:0.9692657232102666\n",
            "recall TRAINING:1.0\n",
            "recall TEST:0.969059405940594\n",
            "precision TRAINING:1.0\n",
            "precision TEST:0.9700133182304831\n"
          ]
        }
      ]
    },
    {
      "cell_type": "code",
      "source": [
        "from sklearn.metrics import confusion_matrix\n",
        "import seaborn as sns\n",
        "import matplotlib.pyplot as plt     \n",
        "\n",
        "ax= plt.subplot()\n",
        "sns.heatmap(confusion_matrix(ytest,y_model),ax=ax)"
      ],
      "metadata": {
        "colab": {
          "base_uri": "https://localhost:8080/",
          "height": 283
        },
        "id": "KqNi9UK8jcAy",
        "outputId": "50a1b2a6-ee7c-4537-fe7b-e9d2a7cb020d"
      },
      "execution_count": null,
      "outputs": [
        {
          "output_type": "execute_result",
          "data": {
            "text/plain": [
              "<matplotlib.axes._subplots.AxesSubplot at 0x7f3193166290>"
            ]
          },
          "metadata": {},
          "execution_count": 12
        },
        {
          "output_type": "display_data",
          "data": {
            "image/png": "[encoded data removed]",
            "text/plain": [
              "<Figure size 432x288 with 2 Axes>"
            ]
          },
          "metadata": {
            "needs_background": "light"
          }
        }
      ]
    },
    {
      "cell_type": "code",
      "source": [
        "from joblib import dump, load\n",
        "dump(model, 'silentSpellPrototipo.joblib') "
      ],
      "metadata": {
        "colab": {
          "base_uri": "https://localhost:8080/"
        },
        "id": "0N_Stu3nO8l1",
        "outputId": "84d307c9-815b-447b-8eb2-5656febafa1b"
      },
      "execution_count": null,
      "outputs": [
        {
          "output_type": "execute_result",
          "data": {
            "text/plain": [
              "['silentSpellPrototipo.joblib']"
            ]
          },
          "metadata": {},
          "execution_count": 14
        }
      ]
    },
    {
      "cell_type": "code",
      "source": [
        "clf = load('silentSpellPrototipo.joblib') \n",
        "y_model = model.predict(Xtest)           \n",
        "ypred_train = model.predict(Xtrain)   \n",
        "from sklearn.metrics import confusion_matrix\n",
        "import seaborn as sns\n",
        "import matplotlib.pyplot as plt     \n",
        "\n",
        "ax= plt.subplot()\n",
        "sns.heatmap(confusion_matrix(ytest,y_model),ax=ax)"
      ],
      "metadata": {
        "colab": {
          "base_uri": "https://localhost:8080/",
          "height": 283
        },
        "id": "lO-za5UsPLaE",
        "outputId": "1ec9a82d-3dff-4e40-9e45-9741a95cfbd4"
      },
      "execution_count": null,
      "outputs": [
        {
          "output_type": "execute_result",
          "data": {
            "text/plain": [
              "<matplotlib.axes._subplots.AxesSubplot at 0x7f3193122b10>"
            ]
          },
          "metadata": {},
          "execution_count": 18
        },
        {
          "output_type": "display_data",
          "data": {
            "image/png": "[encoded data removed]",
            "text/plain": [
              "<Figure size 432x288 with 2 Axes>"
            ]
          },
          "metadata": {
            "needs_background": "light"
          }
        }
      ]
    },
    {
      "cell_type": "code",
      "source": [
        "!pip install pyngrok --quiet\n",
        "get_ipython().system_raw(\"mlflow ui --port 5000 &\") # run tracking UI in the background\n",
        "\n",
        "\n",
        "# create remote tunnel using ngrok.com to allow local port access\n",
        "# borrowed from https://colab.research.google.com/github/alfozan/MLflow-GBRT-demo/blob/master/MLflow-GBRT-demo.ipynb#scrollTo=4h3bKHMYUIG6\n",
        "\n",
        "from pyngrok import ngrok\n",
        "\n",
        "# Terminate open tunnels if exist\n",
        "ngrok.kill()\n",
        "\n",
        "# Setting the authtoken (optional)\n",
        "# Get your authtoken from https://dashboard.ngrok.com/auth\n",
        "NGROK_AUTH_TOKEN = \"\"\n",
        "ngrok.set_auth_token(NGROK_AUTH_TOKEN)\n",
        "\n",
        "# Open an HTTPs tunnel on port 5000 for http://localhost:5000\n",
        "ngrok_tunnel = ngrok.connect(addr=\"5000\", proto=\"http\", bind_tls=True)\n",
        "print(\"MLflow Tracking UI:\", ngrok_tunnel.public_url)"
      ],
      "metadata": {
        "colab": {
          "base_uri": "https://localhost:8080/"
        },
        "id": "OW0jA1Uhj1mx",
        "outputId": "362d808d-aa54-43ac-e7fa-35c76d659e9e"
      },
      "execution_count": null,
      "outputs": [
        {
          "output_type": "stream",
          "name": "stdout",
          "text": [
            "MLflow Tracking UI: https://126e-34-125-252-162.ngrok.io\n"
          ]
        }
      ]
    },
    {
      "cell_type": "code",
      "source": [
        ""
      ],
      "metadata": {
        "id": "pRrfQ86rsMH6"
      },
      "execution_count": null,
      "outputs": []
    }
  ]
}